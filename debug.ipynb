{
 "cells": [
  {
   "cell_type": "code",
   "execution_count": 1,
   "outputs": [],
   "source": [
    "server_dict = {\n",
    "    'Virginia': '54.159.212.206',\n",
    "    'Singapore': '47.236.36.36'\n",
    "}"
   ],
   "metadata": {
    "collapsed": false,
    "ExecuteTime": {
     "end_time": "2023-11-12T08:12:04.559752600Z",
     "start_time": "2023-11-12T08:12:04.557747900Z"
    }
   },
   "id": "19be3fb7ae7c6b8e"
  },
  {
   "cell_type": "code",
   "execution_count": 3,
   "id": "initial_id",
   "metadata": {
    "collapsed": true,
    "ExecuteTime": {
     "end_time": "2023-11-12T08:12:16.003256300Z",
     "start_time": "2023-11-12T08:12:15.978471300Z"
    }
   },
   "outputs": [
    {
     "name": "stdout",
     "output_type": "stream",
     "text": [
      "The server with the lowest ping is: None\n"
     ]
    }
   ],
   "source": [
    "import subprocess\n",
    "\n",
    "server_dict = {\n",
    "    'Virginia': '54.159.212.206',\n",
    "    'Singapore': '47.236.36.36'\n",
    "}\n",
    "\n",
    "def select_server():\n",
    "    min_ping = float('inf')  # Initialize min_ping with a high value\n",
    "    selected_server = None\n",
    "\n",
    "    for server_name, server_ip in server_dict.items():\n",
    "        try:\n",
    "            # Run the ping command and capture the output\n",
    "            result = subprocess.run(['ping', '-c', '4', server_ip], stdout=subprocess.PIPE, stderr=subprocess.PIPE, text=True)\n",
    "            if result.returncode == 0:\n",
    "                # Extract the average ping time from the output\n",
    "                ping_time = float(result.stdout.splitlines()[-1].split('/')[4])\n",
    "                if ping_time < min_ping:\n",
    "                    min_ping = ping_time\n",
    "                    selected_server = server_name\n",
    "        except Exception as e:\n",
    "            print(f\"Error pinging {server_name}: {str(e)}\")\n",
    "\n",
    "    return selected_server\n",
    "\n",
    "# Example usage:\n",
    "best_server = select_server()\n",
    "print(f\"The server with the lowest ping is: {best_server}\")\n"
   ]
  },
  {
   "cell_type": "code",
   "execution_count": 5,
   "outputs": [
    {
     "name": "stdout",
     "output_type": "stream",
     "text": [
      "Could not ping Virginia (http://54.159.212.206)\n",
      "Could not ping Singapore (47.236.36.36)\n",
      "The best server is: None\n"
     ]
    }
   ],
   "source": [
    "import subprocess\n",
    "\n",
    "server_dict = {\n",
    "    'Virginia': '54.159.212.206',\n",
    "    'Singapore': '47.236.36.36'\n",
    "}\n",
    "\n",
    "def select_server():\n",
    "    lowest_ping = float('inf')\n",
    "    selected_server = None\n",
    "\n",
    "    for server_name, server_ip in server_dict.items():\n",
    "        try:\n",
    "            # Use the 'ping' command to measure the ping time to the server.\n",
    "            # The '-c 4' flag means to send 4 ping packets, you can adjust this as needed.\n",
    "            result = subprocess.check_output(['ping', '-c', '4', server_ip], universal_newlines=True)\n",
    "\n",
    "            # Parsing the output to extract the average ping time (in milliseconds).\n",
    "            avg_ping_time = float(result.split('\\n')[-2].split('/')[4])\n",
    "\n",
    "            if avg_ping_time < lowest_ping:\n",
    "                lowest_ping = avg_ping_time\n",
    "                selected_server = server_name\n",
    "\n",
    "        except subprocess.CalledProcessError:\n",
    "            # Handle any errors that may occur during the ping.\n",
    "            print(f\"Could not ping {server_name} ({server_ip})\")\n",
    "\n",
    "    return selected_server\n",
    "\n",
    "# Example usage:\n",
    "best_server = select_server()\n",
    "print(f\"The best server is: {best_server}\")\n"
   ],
   "metadata": {
    "collapsed": false,
    "ExecuteTime": {
     "end_time": "2023-11-12T08:44:29.785265800Z",
     "start_time": "2023-11-12T08:44:29.754716100Z"
    }
   },
   "id": "9736a19c73a88991"
  },
  {
   "cell_type": "code",
   "execution_count": 7,
   "outputs": [
    {
     "name": "stdout",
     "output_type": "stream",
     "text": [
      "Response time to 47.236.36.36: 0.22678422927856445 ms\n",
      "ping '47.236.36.36' ... 226ms\n",
      "ping '47.236.36.36' ... 226ms\n",
      "ping '47.236.36.36' ... 227ms\n",
      "ping '47.236.36.36' ... 226ms\n",
      "None\n"
     ]
    }
   ],
   "source": [
    "from ping3 import ping, verbose_ping\n",
    "\n",
    "# Example 1: Basic ping\n",
    "target_address = \"47.236.36.36\"\n",
    "response_time = ping(target_address)\n",
    "if response_time is not None:\n",
    "    print(f\"Response time to {target_address}: {response_time} ms\")\n",
    "else:\n",
    "    print(f\"{target_address} is down\")\n",
    "\n",
    "# Example 2: Verbose ping with packet loss information\n",
    "verbose_ping_result = verbose_ping(target_address, count=4)\n",
    "print(verbose_ping_result)\n"
   ],
   "metadata": {
    "collapsed": false,
    "ExecuteTime": {
     "end_time": "2023-11-12T08:47:26.402503200Z",
     "start_time": "2023-11-12T08:47:25.259945400Z"
    }
   },
   "id": "51abb8f3b2f4ecd1"
  },
  {
   "cell_type": "code",
   "execution_count": 8,
   "outputs": [
    {
     "data": {
      "text/plain": "0.22678422927856445"
     },
     "execution_count": 8,
     "metadata": {},
     "output_type": "execute_result"
    }
   ],
   "source": [
    "response_time"
   ],
   "metadata": {
    "collapsed": false,
    "ExecuteTime": {
     "end_time": "2023-11-12T08:47:43.099444500Z",
     "start_time": "2023-11-12T08:47:43.085421700Z"
    }
   },
   "id": "686455e4a171a00b"
  },
  {
   "cell_type": "code",
   "execution_count": 9,
   "outputs": [
    {
     "data": {
      "text/plain": "'Virginia'"
     },
     "execution_count": 9,
     "metadata": {},
     "output_type": "execute_result"
    }
   ],
   "source": [
    "from ping3 import ping\n",
    "\n",
    "def select_server(server_dict):\n",
    "    min_ping = float('inf')\n",
    "    selected_server = None\n",
    "\n",
    "    for server, ip in server_dict.items():\n",
    "        response_time = ping(ip)\n",
    "        if response_time is not None and response_time < min_ping:\n",
    "            min_ping = response_time\n",
    "            selected_server = server\n",
    "\n",
    "    return selected_server\n",
    "\n",
    "# Example server dictionary\n",
    "server_dict = {\n",
    "    'Virginia': '54.159.212.206',\n",
    "    'Singapore': '47.236.36.36'\n",
    "}\n",
    "\n",
    "# Call the function to select the server with the lowest ping\n",
    "selected_server = select_server(server_dict)\n",
    "selected_server\n"
   ],
   "metadata": {
    "collapsed": false,
    "ExecuteTime": {
     "end_time": "2023-11-12T08:48:38.014372500Z",
     "start_time": "2023-11-12T08:48:37.749985900Z"
    }
   },
   "id": "ca5d4ddb2e8b16c0"
  },
  {
   "cell_type": "code",
   "execution_count": 3,
   "outputs": [
    {
     "name": "stdout",
     "output_type": "stream",
     "text": [
      "No servers could be pinged.\n"
     ]
    }
   ],
   "source": [
    "from ping3 import ping\n",
    "\n",
    "def select_server(server_dict):\n",
    "    # Initialize a dictionary to store ping results\n",
    "    ping_results = {}\n",
    "\n",
    "    # Ping each server and store the results\n",
    "    for server_name, server_ip in server_dict.items():\n",
    "        ping_result = ping(server_ip)\n",
    "        if ping_result is not None:\n",
    "            ping_results[server_name] = ping_result\n",
    "\n",
    "    # Find the server with the lowest ping\n",
    "    if ping_results:\n",
    "        lowest_ping_server = min(ping_results, key=ping_results.get)\n",
    "        lowest_ping = ping_results[lowest_ping_server]\n",
    "\n",
    "        # Print the ping results\n",
    "        print(\"Ping\")\n",
    "        for server_name, ping_time in ping_results.items():\n",
    "            print(f\"{server_name}: {ping_time:.2f} ms\")\n",
    "\n",
    "        # Print the server with the lowest ping\n",
    "        print(f\"{lowest_ping_server} with lowest ping ({lowest_ping:.2f} ms) selected.\")\n",
    "        return lowest_ping_server\n",
    "    else:\n",
    "        print(\"No servers could be pinged.\")\n",
    "        return None\n",
    "\n",
    "# Example server dictionary\n",
    "server_dict = {\n",
    "    'Virginia': '54.159.212.206',\n",
    "    'Singapore': '47.236.36.36'\n",
    "}\n",
    "\n",
    "# Use this function in your Python environment\n",
    "select_server(server_dict)"
   ],
   "metadata": {
    "collapsed": false,
    "ExecuteTime": {
     "end_time": "2023-11-12T09:42:15.729477800Z",
     "start_time": "2023-11-12T09:42:07.659559300Z"
    }
   },
   "id": "82b01e6db10f4cec"
  },
  {
   "cell_type": "code",
   "execution_count": 3,
   "outputs": [
    {
     "name": "stdout",
     "output_type": "stream",
     "text": [
      "The autoreload extension is already loaded. To reload it, use:\n",
      "  %reload_ext autoreload\n"
     ]
    }
   ],
   "source": [
    "# autoload module\n",
    "%load_ext autoreload\n",
    "%autoreload 2\n",
    "from qichang import *"
   ],
   "metadata": {
    "collapsed": false,
    "ExecuteTime": {
     "end_time": "2023-11-12T11:23:08.788473200Z",
     "start_time": "2023-11-12T11:23:08.753472400Z"
    }
   },
   "id": "783435b3a08ee7db"
  },
  {
   "cell_type": "code",
   "execution_count": 4,
   "outputs": [
    {
     "name": "stdout",
     "output_type": "stream",
     "text": [
      "Ping\n",
      "Virginia: 0.03 ms\n",
      "Singapore: 0.23 ms\n",
      "Virginia with lowest ping (0.03 ms) selected.\n"
     ]
    }
   ],
   "source": [
    "test = LLM_API()"
   ],
   "metadata": {
    "collapsed": false,
    "ExecuteTime": {
     "end_time": "2023-11-12T11:23:10.327822800Z",
     "start_time": "2023-11-12T11:23:10.041170900Z"
    }
   },
   "id": "bd0b2515350c6a03"
  },
  {
   "cell_type": "code",
   "execution_count": 5,
   "outputs": [
    {
     "data": {
      "text/plain": "'你好！有什么可以帮助您的吗？'"
     },
     "execution_count": 5,
     "metadata": {},
     "output_type": "execute_result"
    }
   ],
   "source": [
    "test.chat('GPT4', 'hello')"
   ],
   "metadata": {
    "collapsed": false,
    "ExecuteTime": {
     "end_time": "2023-11-12T11:27:03.550480400Z",
     "start_time": "2023-11-12T11:26:59.467724900Z"
    }
   },
   "id": "892a71c18376f87"
  },
  {
   "cell_type": "code",
   "execution_count": 6,
   "outputs": [],
   "source": [
    "import qichang"
   ],
   "metadata": {
    "collapsed": false,
    "ExecuteTime": {
     "end_time": "2023-11-12T11:53:10.242598400Z",
     "start_time": "2023-11-12T11:53:10.202595100Z"
    }
   },
   "id": "49af349bd8f1d000"
  },
  {
   "cell_type": "code",
   "execution_count": 7,
   "outputs": [
    {
     "name": "stdout",
     "output_type": "stream",
     "text": [
      "Ping\n",
      "Virginia: 0.03 ms\n",
      "Singapore: 0.23 ms\n",
      "Virginia with lowest ping (0.03 ms) selected.\n"
     ]
    }
   ],
   "source": [
    "test = qichang.LLM_API()"
   ],
   "metadata": {
    "collapsed": false,
    "ExecuteTime": {
     "end_time": "2023-11-12T11:53:20.272798900Z",
     "start_time": "2023-11-12T11:53:19.993372800Z"
    }
   },
   "id": "f0fb2c44a0fb2c81"
  },
  {
   "cell_type": "code",
   "execution_count": 9,
   "outputs": [
    {
     "data": {
      "text/plain": "'Hello! How can I assist you today?'"
     },
     "execution_count": 9,
     "metadata": {},
     "output_type": "execute_result"
    }
   ],
   "source": [
    "test.chat('GPT3.5', 'hello')"
   ],
   "metadata": {
    "collapsed": false,
    "ExecuteTime": {
     "end_time": "2023-11-12T11:53:40.431158800Z",
     "start_time": "2023-11-12T11:53:38.676935200Z"
    }
   },
   "id": "44baecd7e2215324"
  },
  {
   "cell_type": "code",
   "execution_count": null,
   "outputs": [],
   "source": [],
   "metadata": {
    "collapsed": false
   },
   "id": "b459fdbda1f5b9f9"
  }
 ],
 "metadata": {
  "kernelspec": {
   "display_name": "Python 3",
   "language": "python",
   "name": "python3"
  },
  "language_info": {
   "codemirror_mode": {
    "name": "ipython",
    "version": 2
   },
   "file_extension": ".py",
   "mimetype": "text/x-python",
   "name": "python",
   "nbconvert_exporter": "python",
   "pygments_lexer": "ipython2",
   "version": "2.7.6"
  }
 },
 "nbformat": 4,
 "nbformat_minor": 5
}
